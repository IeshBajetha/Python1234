{
 "cells": [
  {
   "cell_type": "code",
   "execution_count": null,
   "id": "c684b1b7",
   "metadata": {},
   "outputs": [],
   "source": [
    "import numpy as np\n",
    "import pandas as pd\n",
    "import matplotlib.pyplot as plt"
   ]
  },
  {
   "cell_type": "code",
   "execution_count": null,
   "id": "e4244d10",
   "metadata": {},
   "outputs": [],
   "source": [
    "import numpy as np\n",
    "\n",
    "# x values with positive values\n",
    "x_train = np.array([-1.66410059, -1.41548788, -1.16687518, -0.91826247, -0.66964977,\n",
    "                                -0.42103706, -0.17242436,  0.07618835,  0.32480105,  0.57341376,\n",
    "                                 0.82202646,  1.07063917,  1.31925187,  1.56786458,  1.81647728,\n",
    "                                 2.06508999,  2.31370269,  2.5623154 ,  2.8109281 ,  3.05954081])\n",
    "\n",
    "# y values\n",
    "y_train = np.array([-1.07978846, -0.99482799, -0.90167542, -0.80033077, -0.69079402,\n",
    "                                -0.57306518, -0.44714425, -0.31303122, -0.1707261 , -0.02022888,\n",
    "                                 0.13847445,  0.3032828 ,  0.47489425,  0.65330881,  0.83852648,\n",
    "                                 1.03054725,  1.22937114,  1.43599813,  1.65042823,  1.87266145])\n",
    "\n",
    "\n"
   ]
  },
  {
   "cell_type": "code",
   "execution_count": null,
   "id": "b2e1c1e6",
   "metadata": {},
   "outputs": [],
   "source": [
    "plt.scatter(x_train,y_train)"
   ]
  },
  {
   "cell_type": "code",
   "execution_count": null,
   "id": "1e98d3d4",
   "metadata": {},
   "outputs": [],
   "source": [
    "def cost_function(x_train, y_train, w, b):\n",
    "    \n",
    "    m = x_train.shape[0]   #returns the no. of elements\n",
    "    cost_sum = 0\n",
    "    \n",
    "    for i in range(m):\n",
    "        f_wb = w * x_train[i] + b\n",
    "        cost = (f_wb - y_train[i]) ** 2\n",
    "        cost_sum = cost_sum + cost\n",
    "        \n",
    "    cost_sum = cost_sum / (2*m)\n",
    "    return cost_sum\n",
    "        \n",
    "        "
   ]
  },
  {
   "cell_type": "code",
   "execution_count": null,
   "id": "fcff6fbb",
   "metadata": {},
   "outputs": [],
   "source": [
    "def gradient(x_train, y_train, w, b):\n",
    "    \n",
    "    m = x_train.shape[0]\n",
    "    dj_dw = 0\n",
    "    dj_db = 0\n",
    "    \n",
    "    for i in range(m):\n",
    "        f_wb = w * x_train[i] + b\n",
    "        dj_dw_i = (f_wb - y_train[i]) * x_train[i] \n",
    "        dj_db_i = f_wb - y_train[i]\n",
    "        \n",
    "        dj_dw = dj_dw + dj_dw_i\n",
    "        dj_db = dj_db + dj_db_i\n",
    "        \n",
    "    dj_db = dj_db/m\n",
    "    dj_dw = dj_dw/m\n",
    "    \n",
    "    return(dj_dw, dj_db)\n",
    "        "
   ]
  },
  {
   "cell_type": "code",
   "execution_count": null,
   "id": "2c6a0c0b",
   "metadata": {},
   "outputs": [],
   "source": [
    "def gradient_descent(x_train, y_train, w_in, b_in, alpha, num_iters):\n",
    "    \n",
    "    w = w_in\n",
    "    b = b_in\n",
    "    \n",
    "    for i in range(num_iters):\n",
    "        \n",
    "        dj_dw, dj_db = gradient(x_train, y_train, w, b)\n",
    "        \n",
    "        w = w - alpha * dj_dw\n",
    "        b = b - alpha * dj_db\n",
    "        \n",
    "        if i % 1000 == 0:\n",
    "            \n",
    "            line = np.empty(20)\n",
    "\n",
    "            for j in range(20):\n",
    "                line[j] = w * x_train[j] + b  \n",
    "                \n",
    "            plt.scatter(x_train, y_train)\n",
    "            plt.plot(x_train, line)\n",
    "            plt.xlabel('Size in 1000 sqft')\n",
    "            plt.ylabel('Prince in 1000 dollars')\n",
    "            plt.show()\n",
    "                \n",
    "            \n",
    "            print('Cost at i = ',i,' is ',cost_function(x_train, y_train, w, b))\n",
    "        \n",
    "    return w,b\n"
   ]
  },
  {
   "cell_type": "code",
   "execution_count": null,
   "id": "ed102b32",
   "metadata": {},
   "outputs": [],
   "source": [
    "w_in = 0\n",
    "b_in = 0\n",
    "iterations = 10000\n",
    "alpha = 0.01\n",
    "\n",
    "w_final, b_final = gradient_descent(x_train, y_train, w_in, b_in, alpha, iterations)\n",
    "\n",
    "print('Final value of w = ',w_final)\n",
    "print('Final value of b = ',b_final)"
   ]
  },
  {
   "cell_type": "code",
   "execution_count": null,
   "id": "756ee0f6",
   "metadata": {},
   "outputs": [],
   "source": [
    "print(' w = ',w_final)\n",
    "print(' b = ',b_final)"
   ]
  },
  {
   "cell_type": "code",
   "execution_count": null,
   "id": "41c5e49b",
   "metadata": {},
   "outputs": [],
   "source": []
  }
 ],
 "metadata": {
  "kernelspec": {
   "display_name": "Python 3 (ipykernel)",
   "language": "python",
   "name": "python3"
  },
  "language_info": {
   "codemirror_mode": {
    "name": "ipython",
    "version": 3
   },
   "file_extension": ".py",
   "mimetype": "text/x-python",
   "name": "python",
   "nbconvert_exporter": "python",
   "pygments_lexer": "ipython3",
   "version": "3.10.10"
  }
 },
 "nbformat": 4,
 "nbformat_minor": 5
}
